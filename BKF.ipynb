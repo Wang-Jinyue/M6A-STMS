import pandas as pd
import numpy as np
import itertools
import os
import sys

#gene_type="RNA"
#type_value="U"

def read_fasta_file():
    fh = open('F:\\N6-methyladenosine sites\\m6A\\Data\\Human 41nt 10200.txt', 'r')
    seq = []
    for line in fh:
        if line.startswith('>'):
            continue
        else:
            seq.append(line.replace('\n', '').replace('\r', ''))
    fh.close()
    matrix_data = np.array([list(e) for e in seq])
    print(matrix_data)
    return matrix_data

def AthMethPre_extract_one_line_without(data_line):
    A=[1,0,0,0]
    C=[0,1,0,0]
    G=[0,0,1,0]
    U=[0,0,0,1]
    feature_representation={"A":A,"C":C,"G":G,"U":U}
    beginning=0
    end=len(data_line)-1
    one_line_feature=[]
    alphabet='ACGU'
    matrix_one=["".join(e) for e in itertools.product(alphabet, repeat=1)]# A U C G
    matrix_two=["".join(e) for e in itertools.product(alphabet, repeat=2)] # AA AU AC AG UU UC ...
    matrix_three=["".join(e) for e in itertools.product(alphabet, repeat=3)]# AAA AAU AAC ...
    feature_one=np.zeros(4)
    feature_two=np.zeros(16)
    feature_three=np.zeros(64)
    
    for index,data in enumerate(data_line):
        one_line_feature.extend(feature_representation[data])
        if "".join(data_line[index:(index+1)]) in matrix_one and index <=end-0:
            feature_one[matrix_one.index("".join(data_line[index:(index+1)]))]+=1
        if "".join(data_line[index:(index+2)]) in matrix_two and index <= end-1:
            feature_two[matrix_two.index("".join(data_line[index:(index+2)]))]+=1
        if "".join(data_line[index:(index+3)]) in matrix_three and index <= end-2:
            feature_three[matrix_three.index("".join(data_line[index:(index+3)]))]+=1

    sum_one=np.sum(feature_one)
    sum_two=np.sum(feature_two)
    sum_three=np.sum(feature_three)
    
    one_line_feature.extend(feature_one/sum_one)
    one_line_feature.extend(feature_two/sum_two)
    one_line_feature.extend(feature_three/sum_three)
    
    return one_line_feature


def AthMethPre_feature_extraction(matrix_data,fill_NA):
    if fill_NA=="1":
        final_feature_matrix=[AthMethPre_extract_one_line(e) for e in matrix_data]
    elif fill_NA=="0":
        final_feature_matrix=[AthMethPre_extract_one_line_without(e) for e in matrix_data]
    return final_feature_matrix


fill_NA="0"
matrix_data=read_fasta_file()
final_feature_matrix=AthMethPre_feature_extraction(matrix_data,fill_NA)
print(np.array(final_feature_matrix).shape)

pd.DataFrame(final_feature_matrix).to_csv('F:\\N6-methyladenosine sites\\m6A\\Feature extraction\\BKF\\Human 41nt 10200.csv',header=None,index=False)